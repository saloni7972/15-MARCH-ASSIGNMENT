{
 "cells": [
  {
   "cell_type": "markdown",
   "id": "b0c6061a-8ab6-4302-9e56-83a573d26bf3",
   "metadata": {},
   "source": [
    "15 MARCH ASSIGNMENT"
   ]
  },
  {
   "cell_type": "markdown",
   "id": "542b0369-deb4-458a-8bf5-6d30e89a43bc",
   "metadata": {},
   "source": [
    "Q.1- Explain thK following  with an example:\n",
    "1) Artificial Intelligence\n",
    "2) Machine Learning\n",
    "3) Deep learning"
   ]
  },
  {
   "cell_type": "markdown",
   "id": "1b04e14e-3b98-475e-91e9-79ee4769e458",
   "metadata": {},
   "source": [
    "ANSWER==1) Artificial intelligence--AL is a smart application that can perform its own task without any human intervention.\n",
    "eg. self driving car,robot,alexa\n",
    "2) Machine learning-Machine learning is a subfield of artificial intelligence, which is broadly defined as the capability of a machine to imitate intelligent human behavior.\n",
    "eg.netflix,amazon.in\n",
    "3) Deep learning-Deep learning is a method in artificial intelligence (AI) that teaches computers to process data in a way that is inspired by the human brain\n",
    "eg.image recognization"
   ]
  },
  {
   "cell_type": "code",
   "execution_count": null,
   "id": "cbe2a5ff-2683-46e2-87b4-7ce78636b15c",
   "metadata": {},
   "outputs": [],
   "source": [
    "Q2- What is supervised learning?  List some examples of supervised learning."
   ]
  },
  {
   "cell_type": "markdown",
   "id": "64163d35-cd76-491a-a0d9-a850827dc115",
   "metadata": {},
   "source": [
    "ANSWER== Supervised learning ,the machine provided with labeled data during training to learn patterns and relationship between input and output.\n",
    "eg.weather forcasting"
   ]
  },
  {
   "cell_type": "markdown",
   "id": "c37fba50-dfa7-4547-bfbe-e2fa509760aa",
   "metadata": {},
   "source": [
    "Q3- What is unsupervised learning? List some examples of unsupervised learning."
   ]
  },
  {
   "cell_type": "markdown",
   "id": "ac14806c-d45d-4da1-a4fd-356f4d1038c6",
   "metadata": {},
   "source": [
    "ANSWER==Unsupervised learning, also known as unsupervised machine learning, uses machine learning algorithms to analyze and cluster unlabeled datasets.\n",
    "eg. market segmentation"
   ]
  },
  {
   "cell_type": "markdown",
   "id": "ed142f65-1ab9-4a86-9e0a-e96cbf866cbb",
   "metadata": {},
   "source": [
    "Q4- What is thK difference between  AI, ML, DL, and DS?"
   ]
  },
  {
   "cell_type": "markdown",
   "id": "dd6c8635-2829-49ac-9ac2-f005febe7ba4",
   "metadata": {},
   "source": [
    "ANSWER==Artificial Intelligence (AI) enables machines to think by understanding, learning from the data, and taking decisions based on patterns hidden in the data or make inferences that would otherwise be very difficult for humans to make manually. The end goal of using ML or DL is to create an AI application or machine as smart as humans.\n",
    "\n",
    "🔹Machine Learning (ML) is a subset of AI; it provides us statistical tools/techniques like Supervised, Unsupervised, and Reinforcement learning to explore and analyze the data.\n",
    "\n",
    "🔹Deep Learning (DL) is further a subset of ML, and the main idea behind it is to make machines learn by mimicking the human brain. Here, we create a multi neural network architecture with the help of different techniques like ANN, CNN, and RNN.\n",
    "\n",
    "🔹Data Science (DS) is basically drawing insights from structured and unstructured data either by using ML or DL or without these techniques. We can even use different visualization tools, statistics, and probability to gain these insights."
   ]
  },
  {
   "cell_type": "markdown",
   "id": "b07cd793-47bf-47bb-8f6f-f6c78361cede",
   "metadata": {},
   "source": [
    "Q5- What arE the main differences betwKeen supervised, unsupervised, and semi-supervised learnine?"
   ]
  },
  {
   "cell_type": "markdown",
   "id": "d1299623-3965-415d-a580-64b762c776cc",
   "metadata": {},
   "source": [
    "ANSWER==Supervised learning requires a labeled dataset for training. Unsupervised learning identifies hidden data patterns from an unlabeled dataset, while Reinforcement learning does not require data as it learns by interacting with the environment."
   ]
  },
  {
   "cell_type": "markdown",
   "id": "75be3aec-bfc7-4803-833c-6e9abe65395d",
   "metadata": {},
   "source": [
    "Q6- What is train, test and validation split? Explain the importance of each term."
   ]
  },
  {
   "cell_type": "markdown",
   "id": "307da1c5-25f1-44e4-ab3d-7ea2d2314698",
   "metadata": {},
   "source": [
    "ANSWER==\n",
    "Training Set: The dataset that we feed our model to learn potential underlying patterns and relationships.\n",
    "\n",
    "Validation Set: The dataset that we use to understand our model's performance across different model types and hyperparameter choices.\n",
    "\n",
    "Test Set: The dataset that we use to approximate our model's unbiased accuracy in the wild."
   ]
  },
  {
   "cell_type": "markdown",
   "id": "a3c6dec0-44a8-47ca-ac33-9543f172066a",
   "metadata": {},
   "source": [
    "Q7- How can unsupervised learning be used in anomaly detection?"
   ]
  },
  {
   "cell_type": "markdown",
   "id": "94fd1ec6-46e4-4f99-bf38-a477b04b54fa",
   "metadata": {},
   "source": [
    "ANSWER==Unsupervised is useful when the data is unlabeled and thus requires less work to process the data set before- hand. Anomaly detection techniques of unsupervised nature assume that normal data points occur considerably more frequently than anomalous data points."
   ]
  },
  {
   "cell_type": "markdown",
   "id": "59a2d35a-8acd-425e-876e-c1026c291bdc",
   "metadata": {},
   "source": [
    "Q8- List down some commonly used supervised learning algorithms and unsupKrvised learning\n",
    "algorithms."
   ]
  },
  {
   "cell_type": "markdown",
   "id": "46693ed0-4ecb-4e12-ac00-445533063c0e",
   "metadata": {},
   "source": [
    "Common classification supervised learning algorithms are linear classifiers, support vector machines (SVM), decision trees, k-nearest neighbor, and random forest.\n",
    "unsupervised learning algorithm are "
   ]
  }
 ],
 "metadata": {
  "kernelspec": {
   "display_name": "Python 3 (ipykernel)",
   "language": "python",
   "name": "python3"
  },
  "language_info": {
   "codemirror_mode": {
    "name": "ipython",
    "version": 3
   },
   "file_extension": ".py",
   "mimetype": "text/x-python",
   "name": "python",
   "nbconvert_exporter": "python",
   "pygments_lexer": "ipython3",
   "version": "3.10.8"
  }
 },
 "nbformat": 4,
 "nbformat_minor": 5
}
